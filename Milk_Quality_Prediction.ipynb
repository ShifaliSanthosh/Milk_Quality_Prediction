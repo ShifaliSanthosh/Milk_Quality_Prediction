{
  "nbformat": 4,
  "nbformat_minor": 0,
  "metadata": {
    "colab": {
      "provenance": [],
      "authorship_tag": "ABX9TyPxfcp0v1hg77g0S+WmSLSX",
      "include_colab_link": true
    },
    "kernelspec": {
      "name": "python3",
      "display_name": "Python 3"
    },
    "language_info": {
      "name": "python"
    }
  },
  "cells": [
    {
      "cell_type": "markdown",
      "metadata": {
        "id": "view-in-github",
        "colab_type": "text"
      },
      "source": [
        "<a href=\"https://colab.research.google.com/github/ShifaliSanthosh/Milk_Quality_Prediction/blob/main/Milk_Quality_Prediction.ipynb\" target=\"_parent\"><img src=\"https://colab.research.google.com/assets/colab-badge.svg\" alt=\"Open In Colab\"/></a>"
      ]
    },
    {
      "cell_type": "code",
      "source": [
        "#Milk Quality Prediction with SVM\n",
        "from sklearn.datasets import load_wine\n",
        "import pandas as pd\n",
        "data = pd.read_csv(\"milknew.csv\")\n",
        "print(data.shape)\n",
        "print(data.columns)\n",
        "target_names = data.columns\n",
        "X = data[data.columns[:-1]]\n",
        "Y = data[data.columns[-1]]\n",
        "\n",
        "from sklearn.model_selection import train_test_split\n",
        "X_train, X_test, Y_train, Y_test = train_test_split(X,Y,test_size =0.4, random_state =1)\n",
        "from sklearn.svm import SVC\n",
        "nb= SVC()\n",
        "nb.fit(X_train,Y_train)\n",
        "Y_pred = nb.predict(X_test)\n",
        "from sklearn import metrics\n",
        "accuracy = metrics.accuracy_score(Y_test,Y_pred)\n",
        "print(\"Accuracy : \", accuracy)\n",
        "\n",
        "sample = [[1,4,2,4,3,6,4]]\n",
        "preds = nb.predict(sample)\n",
        "print(\"Prediction : \",preds)\n",
        "\n",
        "import joblib\n",
        "joblib.dump(nb,\"data_nb.pkl\")\n",
        "nb = joblib.load(\"data_nb.pkl\")\n"
      ],
      "metadata": {
        "colab": {
          "base_uri": "https://localhost:8080/"
        },
        "id": "2NjVbm6mqgu0",
        "outputId": "c52b0180-5c9f-41cc-a3aa-fb69654e3326"
      },
      "execution_count": 5,
      "outputs": [
        {
          "output_type": "stream",
          "name": "stdout",
          "text": [
            "(1059, 8)\n",
            "Index(['pH', 'Temprature', 'Taste', 'Odor', 'Fat ', 'Turbidity', 'Colour',\n",
            "       'Grade'],\n",
            "      dtype='object')\n",
            "Accuracy :  0.5188679245283019\n",
            "Prediction :  ['medium']\n"
          ]
        },
        {
          "output_type": "stream",
          "name": "stderr",
          "text": [
            "/usr/local/lib/python3.10/dist-packages/sklearn/base.py:439: UserWarning: X does not have valid feature names, but SVC was fitted with feature names\n",
            "  warnings.warn(\n"
          ]
        }
      ]
    }
  ]
}